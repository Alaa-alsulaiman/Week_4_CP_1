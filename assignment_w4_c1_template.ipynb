{
  "nbformat": 4,
  "nbformat_minor": 0,
  "metadata": {
    "kernelspec": {
      "display_name": "Python 3",
      "language": "python",
      "name": "python3"
    },
    "language_info": {
      "codemirror_mode": {
        "name": "ipython",
        "version": 3
      },
      "file_extension": ".py",
      "mimetype": "text/x-python",
      "name": "python",
      "nbconvert_exporter": "python",
      "pygments_lexer": "ipython3",
      "version": "3.8.8"
    },
    "colab": {
      "name": "assignment_w4_c1_template.ipynb",
      "provenance": []
    }
  },
  "cells": [
    {
      "cell_type": "markdown",
      "metadata": {
        "id": "0uh5qDP4tRhF"
      },
      "source": [
        "Week 4, Assignment C1:\n",
        "\n",
        "CAPM and Modern Portfolio Theory in Python\n",
        "\n",
        "In this notebook, we will study Modern Portfolio Theory in Python.\n",
        "Please complete the lines bellow where you see \"# TODO\"."
      ]
    },
    {
      "cell_type": "code",
      "metadata": {
        "id": "-qSzX-4dtRhJ"
      },
      "source": [
        "#Objective 1.\n",
        "#Use this cell to import Numpy (as np) and Pyplot (from Matplotlib as plt) packages.\n",
        "\n",
        "import numpy as np\n",
        "import matplotlib.pyplot as plt"
      ],
      "execution_count": 12,
      "outputs": []
    },
    {
      "cell_type": "code",
      "metadata": {
        "id": "P0rVzD_RtRhL"
      },
      "source": [
        "#Objective 2.\n",
        "#Select a number of asset classes ( > 1 ) and a number of observations ( > 500 ).  Store your chosen values to the\n",
        "#two new variables \"no_of_asset_classes\" and \"no_of_observations\", respectively.\n",
        "\n",
        "\n",
        "no_of_asset_classes = 7\n",
        "no_of_observations = 700"
      ],
      "execution_count": 13,
      "outputs": []
    },
    {
      "cell_type": "code",
      "metadata": {
        "id": "XFfCnwBxtRhN"
      },
      "source": [
        "np.random.seed(123)\n",
        "matrix_of_return_values = np.random.randn(no_of_asset_classes, no_of_observations)\n",
        "\n",
        "#Objective 3.\n",
        "#Select a number of test portfolios to generate ( > 1,000 < 20,000).  Store your chosen value to the new variable\n",
        "#\"no_of_portfolios\".  \n",
        "\n",
        "no_of_portfolios = 7000"
      ],
      "execution_count": 14,
      "outputs": []
    },
    {
      "cell_type": "code",
      "metadata": {
        "id": "MGBkAZbktRhO"
      },
      "source": [
        "#Objective 4.\n",
        "#Initialize four empty lists called \"collection_of_random_asset_weights\", \"portfolio_means\",\n",
        "#\"portfolio_standard_deviations\", and \"portfolio_sharpe_ratios\", respectively.\n",
        "\n",
        "collection_of_random_asset_weights = []\n",
        "portfolio_means = []\n",
        "portfolio_standard_deviations = []\n",
        "portfolio_sharpe_ratios = []"
      ],
      "execution_count": 15,
      "outputs": []
    },
    {
      "cell_type": "code",
      "metadata": {
        "colab": {
          "base_uri": "https://localhost:8080/"
        },
        "id": "KrDN0rz4tRhO",
        "outputId": "afd4b0e8-027c-440b-b46c-5aca86598043"
      },
      "source": [
        "#Objective 5.\n",
        "#Write a function called \"get_random_asset_weights\" that takes as input (Input.I) any number of asset classes\n",
        "#\"no_of_asset_classes\" and returns (Output.I) a Numpy vector (matrix) of weights (percentages) of length \"no_of_asset_classes\"\n",
        "#whose sum is one (1).\n",
        "\n",
        "def get_random_asset_weights(no_of_asset_classes = 7):\n",
        "    random_asset_weights = np.random.rand(no_of_asset_classes)\n",
        "    total = random_asset_weights.sum()\n",
        "    random_asset_weights  = random_asset_weights/total\n",
        "    return np.asmatrix(random_asset_weights)\n",
        "get_random_asset_weights(7).sum()"
      ],
      "execution_count": 16,
      "outputs": [
        {
          "output_type": "execute_result",
          "data": {
            "text/plain": [
              "0.9999999999999999"
            ]
          },
          "metadata": {},
          "execution_count": 16
        }
      ]
    },
    {
      "cell_type": "code",
      "metadata": {
        "id": "SFfdQb1NUgKT"
      },
      "source": [
        "#Objective 6.\n",
        "#Write a function called \"get_portfolio_statistics\" that takes as input (Input.I) a Numpy vector (matrix)\n",
        "#\"asset_weights\" of weights (percentages) whose sum is one (1) and (Input.II) a Numpy matrix of return values\n",
        "#\"matrix_of_return_values\" whose first axis length is the same as the length of the Numpy vector (matrix)\n",
        "#\"asset_weights\" and returns (Output.I) the mean \"portfolio_mean\", (Output.II) the standard deviation\n",
        "#\"portfolio_standard_deviation\", and (Output.III) the Sharpe ratio \"portfolio_sharpe_ratio\" of the portfolio of\n",
        "#assets with asset weights \"asset_weights\" and asset return values belonging to \"matrix_of_return_values\".\n",
        "\n",
        "def get_portfolio_statistics(asset_weights, matrix_of_return_values):\n",
        "    asset_means = np.asmatrix(np.mean(matrix_of_return_values, axis = 1))\n",
        "    asset_covariances = np.asmatrix(np.cov(matrix_of_return_values))\n",
        "    portfolio_mean = asset_weights*asset_means.T\n",
        "    #portfolio_mean = #todo second line if needed.\n",
        "    portfolio_standard_deviation = np.sqrt(asset_weights* asset_covariances* asset_weights.T)\n",
        "    #portfolio_standard_deviation = #todo second line if needed.\n",
        "    portfolio_sharpe_ratio = portfolio_mean / portfolio_standard_deviation\n",
        "    return portfolio_mean.item(), portfolio_standard_deviation.item(), portfolio_sharpe_ratio.item()"
      ],
      "execution_count": 17,
      "outputs": []
    },
    {
      "cell_type": "code",
      "metadata": {
        "id": "ssiqfMHHtRhQ"
      },
      "source": [
        "#Objective 7.\n",
        "#Using the functions constructed in Objectives 5 and 6, write a loop that, on each iteration, determines a\n",
        "#Numpy vector (matrix) of weights (percentages) \"random_asset_weights\" of length \"no_of_asset_classes\" whose sum \n",
        "#is one (1) and then appends to each of the lists \"collection_of_random_asset_weights\", \"portfolio_means\",\n",
        "#\"portfolio_standard_deviations\", and \"portfolio_sharpe_ratios\" the Numpy vector (matrix) of weights (percentages)\n",
        "#\"random_asset_weights\"; and the mean \"portfolio_mean\", the standard deviation \"portfolio_standard_deviation\", and\n",
        "#the Sharpe ratio \"portfolio_sharpe_ratio\" of the portfolio of assets with asset weights \"asset_weights\" and asset \n",
        "#return values belonging to \"matrix_of_return_values\", respectively.\n",
        "\n",
        "collection_of_random_asset_weights = []\n",
        "portfolio_means = []\n",
        "portfolio_standard_deviations = []\n",
        "portfolio_sharpe_ratios = []\n",
        "\n",
        "while len(collection_of_random_asset_weights) < no_of_portfolios:\n",
        "    random_asset_weights = get_random_asset_weights(no_of_asset_classes)\n",
        "    collection_of_random_asset_weights.append(random_asset_weights) \n",
        "    \n",
        "    p_mean, P_std, P_sr = get_portfolio_statistics(\n",
        "        asset_weights=random_asset_weights,\n",
        "        matrix_of_return_values = matrix_of_return_values\n",
        "        )\n",
        "\n",
        "    portfolio_means.append(p_mean)\n",
        "    portfolio_standard_deviations.append(P_std)\n",
        "    portfolio_sharpe_ratios.append(P_sr) \n"
      ],
      "execution_count": 18,
      "outputs": []
    },
    {
      "cell_type": "code",
      "metadata": {
        "colab": {
          "base_uri": "https://localhost:8080/",
          "height": 265
        },
        "id": "6BO-ZMGgtRhS",
        "outputId": "5995ca73-fd9a-4e37-e746-a2d03457cc46"
      },
      "source": [
        "#Objective 8.\n",
        "#Make a scatterplot of the corresponding values (x,y) = (portfolio_standard_deviation, portfolio_mean) from the\n",
        "#lists \"portfolio_standard_deviations\" and \"portfolio_means\", respectively.\n",
        "import matplotlib.pyplot as plt\n",
        "\n",
        "plt.plot(portfolio_standard_deviations, portfolio_means, 'o', markersize = 3, color = 'lightskyblue') \n",
        "plt.show()"
      ],
      "execution_count": 19,
      "outputs": [
        {
          "output_type": "display_data",
          "data": {
            "image/png": "[encoded data removed]",
            "text/plain": [
              "<Figure size 432x288 with 1 Axes>"
            ]
          },
          "metadata": {
            "needs_background": "light"
          }
        }
      ]
    },
    {
      "cell_type": "code",
      "metadata": {
        "id": "4NpQwztrtRhV"
      },
      "source": [
        "#Objective 9.\n",
        "#Find the list index of the portfolio of highest Sharpe ratio.\n",
        "\n",
        "index = np.argmax(portfolio_sharpe_ratios)"
      ],
      "execution_count": 20,
      "outputs": []
    },
    {
      "cell_type": "code",
      "metadata": {
        "colab": {
          "base_uri": "https://localhost:8080/"
        },
        "id": "nWPRh0H4tRhX",
        "outputId": "6724e08a-a9d7-4e66-bc03-59bfbbf9875f"
      },
      "source": [
        "#Objective 10.\n",
        "#Print the asset weights and Sharpe ratio of the portfolio of highest Sharpe ratio, using index above.\n",
        "\n",
        "print(collection_of_random_asset_weights[index])\n",
        "print(portfolio_sharpe_ratios[index])"
      ],
      "execution_count": 21,
      "outputs": [
        {
          "output_type": "stream",
          "name": "stdout",
          "text": [
            "[[0.02915333 0.00528004 0.05253143 0.17601119 0.11774305 0.30217247\n",
            "  0.31710848]]\n",
            "0.10773026924556431\n"
          ]
        }
      ]
    },
    {
      "cell_type": "code",
      "metadata": {
        "colab": {
          "base_uri": "https://localhost:8080/",
          "height": 266
        },
        "id": "m9pvb4s2tRhY",
        "outputId": "32e5500b-45c8-4bd9-81d0-9e04a0338305"
      },
      "source": [
        "#Objective 11.\n",
        "#Add the Capital Market Line to your scatterplot from Objective 8.\n",
        "\n",
        "x = np.linspace(0, max(portfolio_standard_deviations), 10000)\n",
        "y = portfolio_sharpe_ratios[index] * x\n",
        "plt.plot(portfolio_standard_deviations, portfolio_means, 'o', markersize = 3, color = 'lightskyblue')\n",
        "plt.plot(x, y, '-', linewidth = 2, color = 'black')\n",
        "plt.show()"
      ],
      "execution_count": 22,
      "outputs": [
        {
          "output_type": "display_data",
          "data": {
            "image/png": "[encoded data removed]",
            "text/plain": [
              "<Figure size 432x288 with 1 Axes>"
            ]
          },
          "metadata": {
            "needs_background": "light"
          }
        }
      ]
    },
    {
      "cell_type": "code",
      "metadata": {
        "id": "_227WwGftRhZ"
      },
      "source": [
        "#Objective 12.\n",
        "#All of the work in this notebook assumes a risk-free rate of zero (0.00).  How could this work be modified to\n",
        "#accommodate a nonzero risk-free rate?  Explain."
      ],
      "execution_count": 23,
      "outputs": []
    },
    {
      "cell_type": "markdown",
      "metadata": {
        "id": "ehX-7nEwtRhZ"
      },
      "source": [
        "1- The CML line will start in a different spot higher then 0.\n",
        "2- The sharp ratios will change also M spot. "
      ]
    }
  ]
}